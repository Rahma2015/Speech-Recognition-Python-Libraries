{
  "nbformat": 4,
  "nbformat_minor": 0,
  "metadata": {
    "colab": {
      "name": "gTTS [Speech Recognition libraries].ipynb",
      "provenance": [],
      "collapsed_sections": [],
      "authorship_tag": "ABX9TyN7p08WbzvSKh9Uf3xBPEEz",
      "include_colab_link": true
    },
    "kernelspec": {
      "name": "python3",
      "display_name": "Python 3"
    },
    "language_info": {
      "name": "python"
    }
  },
  "cells": [
    {
      "cell_type": "markdown",
      "metadata": {
        "id": "view-in-github",
        "colab_type": "text"
      },
      "source": [
        "<a href=\"https://colab.research.google.com/github/Rahma2015/Speech-Recognition-Python-Libraries/blob/main/gTTS%20library/gTTS_%5BSpeech_Recognition_libraries%5D.ipynb\" target=\"_parent\"><img src=\"https://colab.research.google.com/assets/colab-badge.svg\" alt=\"Open In Colab\"/></a>"
      ]
    },
    {
      "cell_type": "markdown",
      "source": [
        "##  gTTS (Google text to speech)\n",
        "\n"
      ],
      "metadata": {
        "id": "YBs2AsrkHiQF"
      }
    },
    {
      "cell_type": "markdown",
      "source": [
        "\n",
        "## Creating Text-To-Speech with gTTS python library\n",
        "\n",
        "*   List item\n",
        "*   List item\n",
        "\n",
        "\n"
      ],
      "metadata": {
        "id": "cjCTAKjyhOqK"
      }
    },
    {
      "cell_type": "markdown",
      "source": [
        "documentation links:\n",
        "\n",
        "https://pypi.org/project/gTTS/\n",
        "\n",
        "https://gtts.readthedocs.io/en/latest/"
      ],
      "metadata": {
        "id": "i0EyxVKHM9XG"
      }
    },
    {
      "cell_type": "markdown",
      "source": [
        "It transform written text to spoken words (Auido files)\n",
        "\n",
        "Further manipulation can be done on these auido files\n"
      ],
      "metadata": {
        "id": "6F-DRzdpNLOK"
      }
    },
    {
      "cell_type": "code",
      "execution_count": 1,
      "metadata": {
        "colab": {
          "base_uri": "https://localhost:8080/"
        },
        "id": "ceTSU9SdHUed",
        "outputId": "4014b60d-22b2-4aef-cb18-9f5510175140"
      },
      "outputs": [
        {
          "output_type": "stream",
          "name": "stdout",
          "text": [
            "Collecting gTTS\n",
            "  Downloading gTTS-2.2.3-py3-none-any.whl (25 kB)\n",
            "Requirement already satisfied: six in /usr/local/lib/python3.7/dist-packages (from gTTS) (1.15.0)\n",
            "Requirement already satisfied: click in /usr/local/lib/python3.7/dist-packages (from gTTS) (7.1.2)\n",
            "Requirement already satisfied: requests in /usr/local/lib/python3.7/dist-packages (from gTTS) (2.23.0)\n",
            "Requirement already satisfied: idna<3,>=2.5 in /usr/local/lib/python3.7/dist-packages (from requests->gTTS) (2.10)\n",
            "Requirement already satisfied: certifi>=2017.4.17 in /usr/local/lib/python3.7/dist-packages (from requests->gTTS) (2021.10.8)\n",
            "Requirement already satisfied: chardet<4,>=3.0.2 in /usr/local/lib/python3.7/dist-packages (from requests->gTTS) (3.0.4)\n",
            "Requirement already satisfied: urllib3!=1.25.0,!=1.25.1,<1.26,>=1.21.1 in /usr/local/lib/python3.7/dist-packages (from requests->gTTS) (1.24.3)\n",
            "Installing collected packages: gTTS\n",
            "Successfully installed gTTS-2.2.3\n"
          ]
        }
      ],
      "source": [
        "!pip install gTTS"
      ]
    },
    {
      "cell_type": "markdown",
      "source": [
        "try this command to transform written text 'I Love Rahma' to speech"
      ],
      "metadata": {
        "id": "c-svok5dhx3H"
      }
    },
    {
      "cell_type": "code",
      "source": [
        "! gtts-cli 'I Love Rahma ' --output audiofile.mp3"
      ],
      "metadata": {
        "id": "Kqon80mxIjdY"
      },
      "execution_count": 5,
      "outputs": []
    },
    {
      "cell_type": "markdown",
      "source": [
        "Another example / Arabic example"
      ],
      "metadata": {
        "id": "3yZv1fvLb7Ra"
      }
    },
    {
      "cell_type": "code",
      "source": [
        "from gtts import  gTTS\n",
        "\n",
        "MyText='مُحَمَّدْ يَلْعَبُ فِي اَلْحَدِيقَةِ '\n",
        "#language will be chosen to be Arabic\n",
        "language='ar'\n",
        "\n",
        "#slow parameter is equal to false to have a fast auido\n",
        "obj=gTTS(text=MyText,lang=language,slow=True)\n",
        "\n",
        "obj.save('auidofile2.mp3')\n",
        "\n",
        "filename = 'auidofile2.mp3'"
      ],
      "metadata": {
        "id": "sVLzBGr1bW3H"
      },
      "execution_count": 24,
      "outputs": []
    }
  ]
}