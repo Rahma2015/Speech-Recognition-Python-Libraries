{
  "nbformat": 4,
  "nbformat_minor": 0,
  "metadata": {
    "colab": {
      "name": "pyttsx3 (python speech recognition library).ipynb",
      "provenance": [],
      "collapsed_sections": [],
      "toc_visible": true,
      "authorship_tag": "ABX9TyMXOFDXoh2C69+mIUmdXSqc",
      "include_colab_link": true
    },
    "kernelspec": {
      "name": "python3",
      "display_name": "Python 3"
    },
    "language_info": {
      "name": "python"
    }
  },
  "cells": [
    {
      "cell_type": "markdown",
      "metadata": {
        "id": "view-in-github",
        "colab_type": "text"
      },
      "source": [
        "<a href=\"https://colab.research.google.com/github/Rahma2015/Speech-Recognition-Python-Libraries/blob/main/pyttsx3%20library/pyttsx3_(python_speech_recognition_library).ipynb\" target=\"_parent\"><img src=\"https://colab.research.google.com/assets/colab-badge.svg\" alt=\"Open In Colab\"/></a>"
      ]
    },
    {
      "cell_type": "markdown",
      "source": [
        "## pyttsx"
      ],
      "metadata": {
        "id": "-G-6o1JnA3Os"
      }
    },
    {
      "cell_type": "markdown",
      "source": [
        "pyttsx3 is a text-to-speech conversion library in Python. Unlike alternative libraries, it works offline, and is compatible with both Python 2 and 3.\n",
        "\n"
      ],
      "metadata": {
        "id": "DtRffjFNBHsV"
      }
    },
    {
      "cell_type": "markdown",
      "source": [
        "#Links:\n",
        "https://pyttsx3.readthedocs.io/en/latest/engine.html\n",
        "\n",
        "https://www.javatpoint.com/how-to-convert-text-to-speech-in-python\n",
        "\n"
      ],
      "metadata": {
        "id": "W9c-1GqBFcmH"
      }
    },
    {
      "cell_type": "code",
      "execution_count": null,
      "metadata": {
        "colab": {
          "base_uri": "https://localhost:8080/"
        },
        "id": "MhOjyisvxWrR",
        "outputId": "a99f75b1-0106-4bf2-cd93-3b2d6f4d2171"
      },
      "outputs": [
        {
          "output_type": "stream",
          "name": "stdout",
          "text": [
            "Collecting pyttsx3\n",
            "  Downloading pyttsx3-2.90-py3-none-any.whl (39 kB)\n",
            "Installing collected packages: pyttsx3\n",
            "Successfully installed pyttsx3-2.90\n"
          ]
        }
      ],
      "source": [
        "!pip install pyttsx3"
      ]
    },
    {
      "cell_type": "code",
      "source": [
        "!sudo apt install libespeak-dev"
      ],
      "metadata": {
        "colab": {
          "base_uri": "https://localhost:8080/"
        },
        "id": "uNhf2MnmDikK",
        "outputId": "9516c4fe-cd62-4074-ffb4-d355ca9b38b1"
      },
      "execution_count": null,
      "outputs": [
        {
          "output_type": "stream",
          "name": "stdout",
          "text": [
            "Reading package lists... Done\n",
            "Building dependency tree       \n",
            "Reading state information... Done\n",
            "The following package was automatically installed and is no longer required:\n",
            "  libnvidia-common-470\n",
            "Use 'sudo apt autoremove' to remove it.\n",
            "The following additional packages will be installed:\n",
            "  espeak-data libespeak1 libportaudio2 libsonic0\n",
            "The following NEW packages will be installed:\n",
            "  espeak-data libespeak-dev libespeak1 libportaudio2 libsonic0\n",
            "0 upgraded, 5 newly installed, 0 to remove and 39 not upgraded.\n",
            "Need to get 1,331 kB of archives.\n",
            "After this operation, 3,444 kB of additional disk space will be used.\n",
            "Get:1 http://archive.ubuntu.com/ubuntu bionic/universe amd64 espeak-data amd64 1.48.04+dfsg-5 [934 kB]\n",
            "Get:2 http://archive.ubuntu.com/ubuntu bionic/universe amd64 libportaudio2 amd64 19.6.0-1 [64.6 kB]\n",
            "Get:3 http://archive.ubuntu.com/ubuntu bionic/main amd64 libsonic0 amd64 0.2.0-6 [13.4 kB]\n",
            "Get:4 http://archive.ubuntu.com/ubuntu bionic/universe amd64 libespeak1 amd64 1.48.04+dfsg-5 [145 kB]\n",
            "Get:5 http://archive.ubuntu.com/ubuntu bionic/universe amd64 libespeak-dev amd64 1.48.04+dfsg-5 [174 kB]\n",
            "Fetched 1,331 kB in 1s (1,258 kB/s)\n",
            "debconf: unable to initialize frontend: Dialog\n",
            "debconf: (No usable dialog-like program is installed, so the dialog based frontend cannot be used. at /usr/share/perl5/Debconf/FrontEnd/Dialog.pm line 76, <> line 5.)\n",
            "debconf: falling back to frontend: Readline\n",
            "debconf: unable to initialize frontend: Readline\n",
            "debconf: (This frontend requires a controlling tty.)\n",
            "debconf: falling back to frontend: Teletype\n",
            "dpkg-preconfigure: unable to re-open stdin: \n",
            "Selecting previously unselected package espeak-data:amd64.\n",
            "(Reading database ... 155320 files and directories currently installed.)\n",
            "Preparing to unpack .../espeak-data_1.48.04+dfsg-5_amd64.deb ...\n",
            "Unpacking espeak-data:amd64 (1.48.04+dfsg-5) ...\n",
            "Selecting previously unselected package libportaudio2:amd64.\n",
            "Preparing to unpack .../libportaudio2_19.6.0-1_amd64.deb ...\n",
            "Unpacking libportaudio2:amd64 (19.6.0-1) ...\n",
            "Selecting previously unselected package libsonic0:amd64.\n",
            "Preparing to unpack .../libsonic0_0.2.0-6_amd64.deb ...\n",
            "Unpacking libsonic0:amd64 (0.2.0-6) ...\n",
            "Selecting previously unselected package libespeak1:amd64.\n",
            "Preparing to unpack .../libespeak1_1.48.04+dfsg-5_amd64.deb ...\n",
            "Unpacking libespeak1:amd64 (1.48.04+dfsg-5) ...\n",
            "Selecting previously unselected package libespeak-dev:amd64.\n",
            "Preparing to unpack .../libespeak-dev_1.48.04+dfsg-5_amd64.deb ...\n",
            "Unpacking libespeak-dev:amd64 (1.48.04+dfsg-5) ...\n",
            "Setting up libportaudio2:amd64 (19.6.0-1) ...\n",
            "Setting up espeak-data:amd64 (1.48.04+dfsg-5) ...\n",
            "Setting up libsonic0:amd64 (0.2.0-6) ...\n",
            "Setting up libespeak1:amd64 (1.48.04+dfsg-5) ...\n",
            "Setting up libespeak-dev:amd64 (1.48.04+dfsg-5) ...\n",
            "Processing triggers for libc-bin (2.27-3ubuntu1.3) ...\n",
            "/sbin/ldconfig.real: /usr/local/lib/python3.7/dist-packages/ideep4py/lib/libmkldnn.so.0 is not a symbolic link\n",
            "\n"
          ]
        }
      ]
    },
    {
      "cell_type": "markdown",
      "source": [
        "Example / create voice from text and save it to file"
      ],
      "metadata": {
        "id": "qluXev2vDt8f"
      }
    },
    {
      "cell_type": "code",
      "source": [
        "import pyttsx3\n",
        "engine = pyttsx3.init()\n",
        "text='I love python.'\n",
        "engine.save_to_file(text , 'test.mp3')\n"
      ],
      "metadata": {
        "id": "-C3BKLeiDXGJ"
      },
      "execution_count": null,
      "outputs": []
    },
    {
      "cell_type": "markdown",
      "source": [
        "Changing in properties of auido file"
      ],
      "metadata": {
        "id": "VJEEJZnLFU5f"
      }
    },
    {
      "cell_type": "markdown",
      "source": [
        "Changing in the rate of auido\n",
        "\n",
        "\n"
      ],
      "metadata": {
        "id": "yu1T4uPXISuc"
      }
    },
    {
      "cell_type": "code",
      "source": [
        "#change rate - set it equals to 50 (slowing the audio)\n",
        "engine.setProperty('rate',50)"
      ],
      "metadata": {
        "id": "kROExy1AHh_d"
      },
      "execution_count": null,
      "outputs": []
    },
    {
      "cell_type": "code",
      "source": [
        "#display rate\n",
        "rate = engine.getProperty('rate')\n",
        "rate"
      ],
      "metadata": {
        "colab": {
          "base_uri": "https://localhost:8080/"
        },
        "id": "NPfItexRIQ1A",
        "outputId": "6a08a924-4ff8-4156-b281-093f08d46c9a"
      },
      "execution_count": null,
      "outputs": [
        {
          "output_type": "execute_result",
          "data": {
            "text/plain": [
              "50"
            ]
          },
          "metadata": {},
          "execution_count": 51
        }
      ]
    },
    {
      "cell_type": "markdown",
      "source": [
        "Changing in the volume of auido\n",
        "\n",
        "\n"
      ],
      "metadata": {
        "id": "jVuCv6gBIaXL"
      }
    },
    {
      "cell_type": "code",
      "source": [
        "volume=engine.getProperty('volume')\n",
        "volume"
      ],
      "metadata": {
        "id": "AFb6ErOnIhxE",
        "colab": {
          "base_uri": "https://localhost:8080/"
        },
        "outputId": "b85d6b82-90b2-4d50-e3d7-0ce99acb9ffb"
      },
      "execution_count": null,
      "outputs": [
        {
          "output_type": "execute_result",
          "data": {
            "text/plain": [
              "1.0"
            ]
          },
          "metadata": {},
          "execution_count": 65
        }
      ]
    },
    {
      "cell_type": "code",
      "source": [
        "#Make volume lower\n",
        "engine.setProperty('volume',.5)\n",
        "volume=engine.getProperty('volume')\n",
        "print(volume)\n"
      ],
      "metadata": {
        "id": "YolMdHAIIwrd",
        "colab": {
          "base_uri": "https://localhost:8080/"
        },
        "outputId": "7f01e606-fc3f-4666-bc3e-461fa0508464"
      },
      "execution_count": null,
      "outputs": [
        {
          "output_type": "stream",
          "name": "stdout",
          "text": [
            "0.5\n"
          ]
        }
      ]
    },
    {
      "cell_type": "markdown",
      "source": [
        "Save a version of the modified auido (modified in rate and volume)"
      ],
      "metadata": {
        "id": "Uflo0okNJ0Xm"
      }
    },
    {
      "cell_type": "code",
      "source": [
        "engine.save_to_file(text , 'test1.mp3')\n"
      ],
      "metadata": {
        "id": "6t7vsn_YJ7ma"
      },
      "execution_count": null,
      "outputs": []
    }
  ]
}