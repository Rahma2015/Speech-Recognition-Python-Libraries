{
  "nbformat": 4,
  "nbformat_minor": 0,
  "metadata": {
    "colab": {
      "name": "speechrecognition(python speech recognition library).ipynb",
      "provenance": [],
      "collapsed_sections": [],
      "authorship_tag": "ABX9TyO+mR4OhbKM6pE9g+UlXkpO",
      "include_colab_link": true
    },
    "kernelspec": {
      "name": "python3",
      "display_name": "Python 3"
    },
    "language_info": {
      "name": "python"
    }
  },
  "cells": [
    {
      "cell_type": "markdown",
      "metadata": {
        "id": "view-in-github",
        "colab_type": "text"
      },
      "source": [
        "<a href=\"https://colab.research.google.com/github/Rahma2015/Speech-Recognition-Python-Libraries/blob/main/%20SpeechRecognition%20(the%20python%20library)/speechrecognition(python_speech_recognition_library).ipynb\" target=\"_parent\"><img src=\"https://colab.research.google.com/assets/colab-badge.svg\" alt=\"Open In Colab\"/></a>"
      ]
    },
    {
      "cell_type": "markdown",
      "source": [
        "## This to make use of the SpeechRecognition library of Python"
      ],
      "metadata": {
        "id": "hB9VqIkwvnyM"
      }
    },
    {
      "cell_type": "code",
      "source": [
        "#install the library\n",
        "!pip install SpeechRecognition"
      ],
      "metadata": {
        "colab": {
          "base_uri": "https://localhost:8080/"
        },
        "id": "_FzRnOEOvCxt",
        "outputId": "c5faca3f-e43a-4f4f-edec-0a6ddf2d1fbf"
      },
      "execution_count": null,
      "outputs": [
        {
          "output_type": "stream",
          "name": "stdout",
          "text": [
            "Requirement already satisfied: SpeechRecognition in /usr/local/lib/python3.7/dist-packages (3.8.1)\n"
          ]
        }
      ]
    },
    {
      "cell_type": "markdown",
      "source": [
        "Sources:\n",
        "\n",
        "https://www.youtube.com/watch?v=PWVH3Vx3dCI\n",
        "\n",
        "https://realpython.com/python-speech-recognition/\n",
        "\n",
        "https://pythonprogramminglanguage.com/speech-recognition/\n",
        "\n",
        "additional ideas here:\n",
        "\n",
        "https://www.youtube.com/watch?v=sHeJgKBaiAI"
      ],
      "metadata": {
        "id": "cJ2O20Yk6kOR"
      }
    },
    {
      "cell_type": "markdown",
      "source": [
        "#Side Note:\n",
        "-Audio files samples with wav extension are available on Internet.\n",
        "\n",
        "-Also,we can use an online tool (website app) to convert from mp3 format to wav format for our usage."
      ],
      "metadata": {
        "id": "MmuCDaiKI0v4"
      }
    },
    {
      "cell_type": "code",
      "source": [
        "#check version of library\n",
        "sr.__version__"
      ],
      "metadata": {
        "colab": {
          "base_uri": "https://localhost:8080/",
          "height": 36
        },
        "id": "EbO3wHQQ63fp",
        "outputId": "6dccf13a-59fc-4e79-81c9-4450f80367f5"
      },
      "execution_count": null,
      "outputs": [
        {
          "output_type": "execute_result",
          "data": {
            "application/vnd.google.colaboratory.intrinsic+json": {
              "type": "string"
            },
            "text/plain": [
              "'3.8.1'"
            ]
          },
          "metadata": {},
          "execution_count": 27
        }
      ]
    },
    {
      "cell_type": "code",
      "execution_count": null,
      "metadata": {
        "id": "UTqrkYlYxEtq"
      },
      "outputs": [],
      "source": [
        "#import the library to use it\n",
        "import speech_recognition as sr"
      ]
    },
    {
      "cell_type": "markdown",
      "source": [
        "## Transcribe an Audio file to text"
      ],
      "metadata": {
        "id": "vs4PJGIe4mrY"
      }
    },
    {
      "cell_type": "markdown",
      "source": [
        "##Example"
      ],
      "metadata": {
        "id": "P79RxiE-MEO8"
      }
    },
    {
      "cell_type": "markdown",
      "source": [
        "Audio file to text\n",
        "We convert the spoken words in audio files to written words."
      ],
      "metadata": {
        "id": "KcYsGnyrw8nu"
      }
    },
    {
      "cell_type": "markdown",
      "source": [
        "Here we handle all cases:\n",
        "In this case:\n",
        "the Google speech recognizer couldn't understand auido because it is music not words."
      ],
      "metadata": {
        "id": "nLfWJRU93g9t"
      }
    },
    {
      "cell_type": "code",
      "source": [
        "Audio_file=(\"/content/file_example_WAV_1MG.wav\")\n",
        "#Make recognizer instance of library\n",
        "r=sr.Recognizer()\n",
        "with sr.AudioFile(Audio_file) as source:\n",
        "  #read the source by r object /recognizer\n",
        "  #Using record() to Capture Data From a File\n",
        "  audio=r.record(source)\n",
        "try:\n",
        "  print('auido contents'+r.recognize_google(audio))\n",
        "except sr.UnknownValueError:\n",
        "  print(\"Google Speech Recognition could not understand audio\")\n",
        "except sr.RequestError as e:\n",
        "  print(\"Could not request results from Google Speech Recognition service; {0}\".format(e))"
      ],
      "metadata": {
        "colab": {
          "base_uri": "https://localhost:8080/"
        },
        "id": "aO1SNglFw5_P",
        "outputId": "2886c581-9086-45f7-edc7-eb157a1d4bda"
      },
      "execution_count": null,
      "outputs": [
        {
          "output_type": "stream",
          "name": "stdout",
          "text": [
            "Google Speech Recognition could not understand audio\n"
          ]
        }
      ]
    },
    {
      "cell_type": "markdown",
      "source": [
        "##Another Example"
      ],
      "metadata": {
        "id": "ISK0-9U1MG02"
      }
    },
    {
      "cell_type": "markdown",
      "source": [
        "In this case\n",
        "the Google speech recognizer could convert the auido to  written words giving good results \n",
        "The original auido says 'I love python'"
      ],
      "metadata": {
        "id": "Lwf0-wjf30L-"
      }
    },
    {
      "cell_type": "code",
      "source": [
        "Audio_file=(\"/content/test1.wav\")\n",
        "r=sr.Recognizer()\n",
        "with sr.AudioFile(Audio_file) as source:\n",
        "  #read the source by r object /recognizer\n",
        "  #Using listen() to Capture Data From a File\n",
        "  audio=r.listen(source)\n",
        "try:\n",
        "  print('auido contents is\\n '+r.recognize_google(audio))\n",
        "except sr.UnknownValueError:\n",
        "  print(\"Google Speech Recognition could not understand audio\")\n",
        "except sr.RequestError as e:\n",
        "  print(\"Could not request results from Google Speech Recognition service; {0}\".format(e))"
      ],
      "metadata": {
        "colab": {
          "base_uri": "https://localhost:8080/"
        },
        "id": "Vivvi4xg3VQS",
        "outputId": "87c6e351-f281-4f0a-e378-da3eb730e26e"
      },
      "execution_count": null,
      "outputs": [
        {
          "output_type": "stream",
          "name": "stdout",
          "text": [
            "auido contents is\n",
            " I love pie\n"
          ]
        }
      ]
    },
    {
      "cell_type": "markdown",
      "source": [
        "## Comment on the output"
      ],
      "metadata": {
        "id": "ZuGwoco1MMeE"
      }
    },
    {
      "cell_type": "markdown",
      "source": [
        "Most probably ,the output of the code is **'I love pie'**  instead of original speech **'I love python'** because the rate of the audio file used here is very low (it is slow) so recognizer couldn't recognize it 100% right. "
      ],
      "metadata": {
        "id": "jM9zkJylMRb0"
      }
    },
    {
      "cell_type": "markdown",
      "source": [
        "---------------------------------------"
      ],
      "metadata": {
        "id": "GND1pfbGMPRj"
      }
    },
    {
      "cell_type": "markdown",
      "source": [
        "Using record() or listen() to Capture Data From a File\n",
        "\n",
        "Check type of audio:"
      ],
      "metadata": {
        "id": "6dHh3eMb8cTB"
      }
    },
    {
      "cell_type": "code",
      "source": [
        "type(audio)"
      ],
      "metadata": {
        "colab": {
          "base_uri": "https://localhost:8080/"
        },
        "id": "WMGLAIhg8b0Q",
        "outputId": "3b707a60-38bb-44d9-e5cf-9ac857894091"
      },
      "execution_count": null,
      "outputs": [
        {
          "output_type": "execute_result",
          "data": {
            "text/plain": [
              "speech_recognition.AudioData"
            ]
          },
          "metadata": {},
          "execution_count": 38
        }
      ]
    },
    {
      "cell_type": "markdown",
      "source": [
        "## Arabic language Example"
      ],
      "metadata": {
        "id": "OMcIx04jH7SS"
      }
    },
    {
      "cell_type": "markdown",
      "source": [
        "Here we give the program an auido with (Arabic language words), \n",
        "the contents of auido file is\n",
        "\n",
        " (محمد يلعب فى الحديقة)\n",
        "\n",
        " The recognizer of SpeechRecognition library couldn't recognize the content."
      ],
      "metadata": {
        "id": "pKGkr1SqH_0W"
      }
    },
    {
      "cell_type": "code",
      "source": [
        "Audio_file=(\"/content/MohamedPlay.wav\")\n",
        "r=sr.Recognizer()\n",
        "with sr.AudioFile(Audio_file) as source:\n",
        "  #read the source by r object /recognizer\n",
        "  #Using listen() to Capture Data From a File\n",
        "  audio=r.listen(source)\n",
        "try:\n",
        "  print('auido contents is\\n '+r.recognize_google(audio))\n",
        "except sr.UnknownValueError:\n",
        "  print(\"Google Speech Recognition could not understand audio\")\n",
        "except sr.RequestError as e:\n",
        "  print(\"Could not request results from Google Speech Recognition service; {0}\".format(e))"
      ],
      "metadata": {
        "colab": {
          "base_uri": "https://localhost:8080/"
        },
        "id": "UkzWYVqRHwFB",
        "outputId": "6daac38b-965a-4ac8-df6a-d3b1acfca388"
      },
      "execution_count": null,
      "outputs": [
        {
          "output_type": "stream",
          "name": "stdout",
          "text": [
            "Google Speech Recognition could not understand audio\n"
          ]
        }
      ]
    }
  ]
}