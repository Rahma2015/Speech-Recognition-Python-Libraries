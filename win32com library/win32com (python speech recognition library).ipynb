{
 "cells": [
  {
   "cell_type": "code",
   "execution_count": 23,
   "metadata": {},
   "outputs": [],
   "source": [
    "import win32com.client as wincl"
   ]
  },
  {
   "cell_type": "markdown",
   "metadata": {},
   "source": [
    "Microsoft speech engine"
   ]
  },
  {
   "cell_type": "markdown",
   "metadata": {},
   "source": [
    "This works on Windows platform. Now we are all set to write a sample program that converts text to speech.\n",
    "\n"
   ]
  },
  {
   "cell_type": "markdown",
   "metadata": {},
   "source": [
    "Example"
   ]
  },
  {
   "cell_type": "code",
   "execution_count": 24,
   "metadata": {},
   "outputs": [
    {
     "data": {
      "text/plain": [
       "1"
      ]
     },
     "execution_count": 24,
     "metadata": {},
     "output_type": "execute_result"
    }
   ],
   "source": [
    "#Dispatch method\n",
    "#Interact with Microsoft Speech SDK (software development kit) to speak\n",
    "speak=wincl.Dispatch(\"SAPI.SpVoice\")\n",
    "#Speack the text\n",
    "speak.Speak('Hello my name is Rahma')"
   ]
  },
  {
   "cell_type": "markdown",
   "metadata": {},
   "source": [
    "Another Example"
   ]
  },
  {
   "cell_type": "code",
   "execution_count": 25,
   "metadata": {},
   "outputs": [
    {
     "name": "stdout",
     "output_type": "stream",
     "text": [
      "Enter any word you want to be transformed to speech\n",
      "if you write 'exit' the program won't keep showing to you\n",
      "e\n",
      "Enter any word you want to be transformed to speech\n",
      "if you write 'exit' the program won't keep showing to you\n",
      "f\n",
      "Enter any word you want to be transformed to speech\n",
      "if you write 'exit' the program won't keep showing to you\n",
      "exit\n"
     ]
    }
   ],
   "source": [
    "speak=wincl.Dispatch(\"SAPI.SpVoice\")\n",
    "while 1:\n",
    "    print('Enter any word you want to be transformed to speech')\n",
    "    print('if you write \\'exit\\' the program won\\'t keep showing to you')\n",
    "    word=input()\n",
    "    speak.Speak(word)\n",
    "    if word=='exit':break"
   ]
  },
  {
   "cell_type": "code",
   "execution_count": null,
   "metadata": {},
   "outputs": [],
   "source": []
  }
 ],
 "metadata": {
  "kernelspec": {
   "display_name": "Python 3",
   "language": "python",
   "name": "python3"
  },
  "language_info": {
   "codemirror_mode": {
    "name": "ipython",
    "version": 3
   },
   "file_extension": ".py",
   "mimetype": "text/x-python",
   "name": "python",
   "nbconvert_exporter": "python",
   "pygments_lexer": "ipython3",
   "version": "3.7.6"
  }
 },
 "nbformat": 4,
 "nbformat_minor": 4
}
